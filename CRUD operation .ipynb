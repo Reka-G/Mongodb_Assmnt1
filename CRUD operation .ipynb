{
 "cells": [
  {
   "cell_type": "code",
   "execution_count": 1,
   "id": "68b64f98",
   "metadata": {},
   "outputs": [],
   "source": [
    "from pymongo import MongoClient"
   ]
  },
  {
   "cell_type": "code",
   "execution_count": 2,
   "id": "6a1df1ba",
   "metadata": {},
   "outputs": [],
   "source": [
    "client = MongoClient('mongodb://127.0.0.1:27017/')"
   ]
  },
  {
   "cell_type": "code",
   "execution_count": 5,
   "id": "9d0cd125",
   "metadata": {},
   "outputs": [
    {
     "ename": "NameError",
     "evalue": "name 'Telephone_directory' is not defined",
     "output_type": "error",
     "traceback": [
      "\u001b[1;31m---------------------------------------------------------------------------\u001b[0m",
      "\u001b[1;31mNameError\u001b[0m                                 Traceback (most recent call last)",
      "Cell \u001b[1;32mIn [5], line 1\u001b[0m\n\u001b[1;32m----> 1\u001b[0m db \u001b[38;5;241m=\u001b[39m \u001b[43mTelephone_directory\u001b[49m[\u001b[38;5;124m\"\u001b[39m\u001b[38;5;124mdata\u001b[39m\u001b[38;5;124m\"\u001b[39m]\n",
      "\u001b[1;31mNameError\u001b[0m: name 'Telephone_directory' is not defined"
     ]
    }
   ],
   "source": [
    "db = Telephone_directory[\"data\"]"
   ]
  },
  {
   "cell_type": "code",
   "execution_count": 4,
   "id": "2ca5cabc",
   "metadata": {},
   "outputs": [
    {
     "ename": "NameError",
     "evalue": "name 'db' is not defined",
     "output_type": "error",
     "traceback": [
      "\u001b[1;31m---------------------------------------------------------------------------\u001b[0m",
      "\u001b[1;31mNameError\u001b[0m                                 Traceback (most recent call last)",
      "Cell \u001b[1;32mIn [4], line 1\u001b[0m\n\u001b[1;32m----> 1\u001b[0m db \u001b[38;5;241m=\u001b[39m \u001b[43mdb\u001b[49m\u001b[38;5;241m.\u001b[39mTelephone_directory\n",
      "\u001b[1;31mNameError\u001b[0m: name 'db' is not defined"
     ]
    }
   ],
   "source": [
    " db = db.Telephone_directory"
   ]
  },
  {
   "cell_type": "code",
   "execution_count": null,
   "id": "f62764ca",
   "metadata": {},
   "outputs": [],
   "source": [
    "#C-insert many collections:\n",
    "db.Telephone_directory.insert_many(\n",
    "    [\n",
    "       \n",
    "      {\"Name\": \"Reka\",\n",
    "      \"Address\": \"#3,APJ Nagar\" ,\n",
    "       \"contact\":123467889 ,\n",
    "       \"location\":\"Bangalore\" },\n",
    "        \n",
    "      {\"Name\": \"Dhanya\",\n",
    "      \"Address\": \"#7,APJ Nagar\",\n",
    "       \"contact\":123467889,\n",
    "       \"location\":\"Bangalore\"},\n",
    "        \n",
    "       {\"Name\": \"Venki\",\n",
    "      \"Address\": \"#3,APJ Nagar\",\n",
    "       \"contact\":7464464784,\n",
    "       \"location\":\"Bangalore\"},\n",
    "        \n",
    "        {\"Name\": \"Bharti\",\n",
    "      \"Address\": \"#6,APJ Nagar\",\n",
    "       \"contact\":564748899,\n",
    "       \"location\":\"Bangalore\"},\n",
    "        \n",
    "        {\"Name\": \"Thuru\",\n",
    "      \"Address\": \"#9,APJ Nagar\",\n",
    "       \"contact\":456778902,\n",
    "       \"location\":\"Bangalore\"},\n",
    "        \n",
    "        {\"Name\": \"Ram\",\n",
    "      \"Address\": \"#1,APJ Nagar\",\n",
    "       \"contact\":45678999,\n",
    "       \"location\":\"Bangalore\"},\n",
    "        \n",
    "    ]\n",
    ")"
   ]
  },
  {
   "cell_type": "code",
   "execution_count": null,
   "id": "64832825",
   "metadata": {},
   "outputs": [],
   "source": [
    "query={\"location\":\"Bangalore\"}\n",
    "result=Telephone_directory.find(query)\n",
    "for i in result:\n",
    "    print(i)"
   ]
  },
  {
   "cell_type": "code",
   "execution_count": null,
   "id": "f9d39574",
   "metadata": {},
   "outputs": [],
   "source": [
    "db.Telephone_directory.find()\n",
    "query = {\"Name\": \"Ram\"}\n",
    "print(Telephone_directory.find_one(query))"
   ]
  },
  {
   "cell_type": "code",
   "execution_count": null,
   "id": "f94f59a6",
   "metadata": {},
   "outputs": [],
   "source": [
    "Telephone_directory.find({}).limit(6)\n",
    "for i in result:\n",
    "    print(i)"
   ]
  },
  {
   "cell_type": "code",
   "execution_count": null,
   "id": "cc7a9d9c",
   "metadata": {},
   "outputs": [],
   "source": [
    "Telephone_directory.replace_one({\"Name\":\"Aditi\"}, {\"Name\":\"Venrek\"})\n",
    "\n",
    "Telephone_directory.find()\n"
   ]
  },
  {
   "cell_type": "code",
   "execution_count": null,
   "id": "e6bc06cf",
   "metadata": {},
   "outputs": [],
   "source": [
    "Telephone_directory.delete_one({\"Name\":\"Aditi\"})"
   ]
  },
  {
   "cell_type": "code",
   "execution_count": null,
   "id": "00147629",
   "metadata": {},
   "outputs": [],
   "source": [
    "db.Telephone_directory.find()\n",
    "query = {\"Name\": \"Aditi\"}\n",
    "print(Telephone_directory.find_one(query))"
   ]
  },
  {
   "cell_type": "code",
   "execution_count": null,
   "id": "68534021",
   "metadata": {},
   "outputs": [],
   "source": [
    "query={\"Name\":\"Aditi\"}\n",
    "Telephone_directory.delete_one(query)"
   ]
  },
  {
   "cell_type": "code",
   "execution_count": null,
   "id": "ea542ef0",
   "metadata": {},
   "outputs": [],
   "source": []
  },
  {
   "cell_type": "code",
   "execution_count": null,
   "id": "f69289b2",
   "metadata": {},
   "outputs": [],
   "source": []
  },
  {
   "cell_type": "code",
   "execution_count": null,
   "id": "a30f2f25",
   "metadata": {},
   "outputs": [],
   "source": []
  },
  {
   "cell_type": "code",
   "execution_count": null,
   "id": "8efc2859",
   "metadata": {},
   "outputs": [],
   "source": []
  },
  {
   "cell_type": "code",
   "execution_count": null,
   "id": "7782dd1f",
   "metadata": {},
   "outputs": [],
   "source": []
  },
  {
   "cell_type": "code",
   "execution_count": null,
   "id": "19543187",
   "metadata": {},
   "outputs": [],
   "source": []
  },
  {
   "cell_type": "code",
   "execution_count": null,
   "id": "8ef89844",
   "metadata": {},
   "outputs": [],
   "source": []
  },
  {
   "cell_type": "code",
   "execution_count": null,
   "id": "d82d6b8e",
   "metadata": {},
   "outputs": [],
   "source": []
  },
  {
   "cell_type": "code",
   "execution_count": null,
   "id": "e0c7e804",
   "metadata": {},
   "outputs": [],
   "source": []
  },
  {
   "cell_type": "code",
   "execution_count": null,
   "id": "ba1a8b5b",
   "metadata": {},
   "outputs": [],
   "source": []
  }
 ],
 "metadata": {
  "kernelspec": {
   "display_name": "Python 3 (ipykernel)",
   "language": "python",
   "name": "python3"
  },
  "language_info": {
   "codemirror_mode": {
    "name": "ipython",
    "version": 3
   },
   "file_extension": ".py",
   "mimetype": "text/x-python",
   "name": "python",
   "nbconvert_exporter": "python",
   "pygments_lexer": "ipython3",
   "version": "3.10.7"
  }
 },
 "nbformat": 4,
 "nbformat_minor": 5
}
